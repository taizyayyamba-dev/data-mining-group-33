{
  "nbformat": 4,
  "nbformat_minor": 0,
  "metadata": {
    "colab": {
      "provenance": [],
      "authorship_tag": "ABX9TyOfs2ImHcavkBHMsQpRbjei",
      "include_colab_link": true
    },
    "kernelspec": {
      "name": "python3",
      "display_name": "Python 3"
    },
    "language_info": {
      "name": "python"
    }
  },
  "cells": [
    {
      "cell_type": "markdown",
      "metadata": {
        "id": "view-in-github",
        "colab_type": "text"
      },
      "source": [
        "<a href=\"https://colab.research.google.com/github/taizyayyamba-dev/data-mining-group-33/blob/main/BUSINESS_UNDERSTANDING.ipynb\" target=\"_parent\"><img src=\"https://colab.research.google.com/assets/colab-badge.svg\" alt=\"Open In Colab\"/></a>"
      ]
    },
    {
      "cell_type": "code",
      "execution_count": null,
      "metadata": {
        "id": "RfPT3l7hFWiI"
      },
      "outputs": [],
      "source": []
    },
    {
      "cell_type": "markdown",
      "source": [
        "BUSINESS OBJECTIVE\n",
        "Accelerate editorial decisions.\n",
        "\n",
        "Map emerging research trends.\n",
        "\n",
        "Enhance journal impact metrics.\n",
        "\n",
        "added by taizya 2021419894"
      ],
      "metadata": {
        "id": "cdnjFQwwHC-n"
      }
    }
  ]
}