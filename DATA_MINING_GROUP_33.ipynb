{
  "nbformat": 4,
  "nbformat_minor": 0,
  "metadata": {
    "colab": {
      "provenance": [],
      "authorship_tag": "ABX9TyOYdZ2xy5UlPR5KgnmPETXJ",
      "include_colab_link": true
    },
    "kernelspec": {
      "name": "python3",
      "display_name": "Python 3"
    },
    "language_info": {
      "name": "python"
    }
  },
  "cells": [
    {
      "cell_type": "markdown",
      "metadata": {
        "id": "view-in-github",
        "colab_type": "text"
      },
      "source": [
        "<a href=\"https://colab.research.google.com/github/taizyayyamba-dev/data-mining-group-33/blob/main/DATA_MINING_GROUP_33.ipynb\" target=\"_parent\"><img src=\"https://colab.research.google.com/assets/colab-badge.svg\" alt=\"Open In Colab\"/></a>"
      ]
    },
    {
      "cell_type": "markdown",
      "source": [
        "#data-mining-group-33\n",
        "##assignment on Moodle\n",
        "\n",
        "###data minning assignment\n",
        "\n",
        "#Business Understanding (Draft for JoNAS Project)\n",
        "##Problem Statement\n",
        "\n",
        "The Journal of Natural Sciences (JoNAS), hosted by the University of Zambia, publishes a wide range of research articles across different disciplines of natural sciences. Currently, articles are archived online with minimal metadata, making it difficult for researchers, students, and librarians to quickly identify which field (e.g., Biology, Chemistry, Environmental Science, Physics, Agriculture) a paper belongs to. This lack of structured categorization reduces discoverability, hinders cross-disciplinary research, and increases the workload of editors and readers who must manually scan articles.\n",
        "We aim to build a system that automatically classifies articles into scientific fields based on their content, improving discoverability and supporting efficient indexing for the JoNAS archive.\n",
        "\n",
        "##Business Objectives\n",
        "\n",
        "Improve the discoverability of articles in JoNAS by automatically tagging them with relevant fields.\n",
        "\n",
        "Reduce manual workload of editors and librarians in organizing submissions.\n",
        "\n",
        "Support students and researchers in finding relevant literature more quickly.\n",
        "\n",
        "Lay the foundation for potential future features, such as article recommendation or citation impact prediction.\n",
        "\n",
        "Primary Stakeholders & Decisions:\n",
        "\n",
        "Owner: Journal Editorial Board (JoNAS, University of Zambia).\n",
        "\n",
        "Users: Researchers, students, and librarians accessing the archive.\n",
        "\n",
        "Decisions influenced: How articles are categorized, displayed, and searched in the online journal system.\n",
        "\n",
        "##Data Mining Goals\n",
        "\n",
        "Classification: Build a supervised model to predict the field of study of an article (e.g., Biology, Chemistry, Environmental Science, Physics, Agriculture) based on text features such as title, abstract, and keywords.\n",
        "\n",
        "Regression/Forecasting: Predict potential citation impact or readership of articles.\n",
        "\n",
        "Explainability: Provide interpretable outputs (e.g., feature importance, keywords driving classification) so editors understand why an article was assigned to a given category.\n",
        "\n",
        "Inputs (initial hypothesis):\n",
        "\n",
        "Features: article titles, abstracts, keywords, metadata from JoNAS archive.\n",
        "\n",
        "Grain of data: article-level (one row per article).\n",
        "\n",
        "Data availability: existing JoNAS issues (static, batch download).\n",
        "\n",
        "##Initial Project Success Criteria\n",
        "\n",
        "Technical:\n",
        "\n",
        "Classification model achieves ≥ 80% accuracy and ≥ 0.75 F1 score in predicting correct field labels.\n",
        "\n",
        "Baseline benchmark: majority class classifier accuracy.\n",
        "\n",
        "Explainability available through word importance visualization.\n",
        "\n",
        "Business:\n",
        "\n",
        "Article classification reduces manual tagging workload by at least 50% for editors.\n",
        "\n",
        "Categorized articles improve searchability (demonstrated through prototype search by field).\n",
        "\n",
        "Outputs can be integrated into a one-page metadata summary for JoNAS archive.\n",
        "\n",
        "##Scope, Assumptions & Constraints\n",
        "\n",
        "In-scope: Research articles in JoNAS archive (titles, abstracts, keywords).\n",
        "\n",
        "Out-of-scope: Full-text parsing of PDFs; non-Natural Science articles.\n",
        "\n",
        "Assumptions: Abstracts and metadata are available and clean enough for classification.\n",
        "\n",
        "Constraints: Potentially small dataset; imbalanced categories; metadata inconsistencies.\n",
        "\n",
        "Ethics & Privacy: No personal or sensitive data—only published research. Ensure transparency in how classifications are assigned.\n",
        "\n",
        "##Stakeholders & RACI\n",
        "\n",
        "Responsible (builders): Taizya, Adel, Reginald, Royd, Gift\n",
        "\n",
        "Accountable: Course Instructor/TA\n",
        "\n",
        "Consulted: JoNAS editors (hypothetical domain experts)\n",
        "\n",
        "Informed: University research community\n",
        "\n",
        "##Risks & Mitigations\n",
        "\n",
        "Small or imbalanced dataset → Use data augmentation or resampling.\n",
        "\n",
        "Noisy or inconsistent article metadata → Apply text preprocessing (cleaning, tokenization).\n",
        "\n",
        "Overfitting due to limited categories → Use cross-validation and simpler interpretable models initially."
      ],
      "metadata": {
        "id": "VEikBHfGgg7m"
      }
    },
    {
      "cell_type": "markdown",
      "source": [],
      "metadata": {
        "id": "3fFvYsVJgrWy"
      }
    },
    {
      "cell_type": "code",
      "source": [
        "from google.colab import drive\n",
        "drive.mount('/content/drive')"
      ],
      "metadata": {
        "colab": {
          "base_uri": "https://localhost:8080/"
        },
        "id": "Ys1jnSLI5xmA",
        "outputId": "ce573556-803b-441f-c2aa-d6341d6fa557"
      },
      "execution_count": 1,
      "outputs": [
        {
          "output_type": "stream",
          "name": "stdout",
          "text": [
            "Mounted at /content/drive\n"
          ]
        }
      ]
    },
    {
      "cell_type": "code",
      "source": [
        "import pandas as pd\n",
        "file_path = \"/content/drive/MyDrive/colab_notebook/misc-unza25-csc4792-project_team33/jonas_articles.csv\"\n",
        "df = pd.read_csv(file_path)\n",
        "print(df.head())"
      ],
      "metadata": {
        "colab": {
          "base_uri": "https://localhost:8080/"
        },
        "id": "UJNR3TRZ6v1R",
        "outputId": "cad35780-323f-4d50-ef23-ac116743de99"
      },
      "execution_count": 4,
      "outputs": [
        {
          "output_type": "stream",
          "name": "stdout",
          "text": [
            "                            article_id                          title  \\\n",
            "0  371-Article Text-1361-1-10-20201218  JONAS Volume 4 Issue 1 (2020)   \n",
            "1  374-Article Text-1371-1-10-20201218  JONAS Volume 4 Issue 1 (2020)   \n",
            "2  376-Article Text-1364-1-10-20201218  JONAS Volume 4 Issue 1 (2020)   \n",
            "3  378-Article Text-1374-1-10-20201218  JONAS Volume 4 Issue 1 (2020)   \n",
            "4  378-Article Text-1377-1-10-20201218  JONAS Volume 4 Issue 1 (2020)   \n",
            "\n",
            "   authors  year  volume  issue  pages  \\\n",
            "0      NaN   NaN     NaN    NaN    NaN   \n",
            "1      NaN   NaN     NaN    NaN    NaN   \n",
            "2      NaN   NaN     NaN    NaN    NaN   \n",
            "3      NaN   NaN     NaN    NaN    NaN   \n",
            "4      NaN   NaN     NaN    NaN    NaN   \n",
            "\n",
            "                                            keywords  \\\n",
            "0                                                NaN   \n",
            "1                                                NaN   \n",
            "2  Operations Strategy, Competency, Cost, Quality...   \n",
            "3  Construction Indusry, Main contractor, Subcont...   \n",
            "4  Construction Indusry, Main contractor, Subcont...   \n",
            "\n",
            "                                            abstract  abstract_length  \\\n",
            "0  Construction is characterised as being labour ...             8815   \n",
            "1  Insolation models have been recognized for man...             7743   \n",
            "2  Access to safe and affordable drinking water i...             2155   \n",
            "3  In recent years there has been a substantial n...             1913   \n",
            "4  In recent years there has been a substantial n...             1913   \n",
            "\n",
            "                                            pdf_path  field  \n",
            "0  C:/Users/Taizya Yambayamba/Desktop/BOOKS/4th Y...    NaN  \n",
            "1  C:/Users/Taizya Yambayamba/Desktop/BOOKS/4th Y...    NaN  \n",
            "2  C:/Users/Taizya Yambayamba/Desktop/BOOKS/4th Y...    NaN  \n",
            "3  C:/Users/Taizya Yambayamba/Desktop/BOOKS/4th Y...    NaN  \n",
            "4  C:/Users/Taizya Yambayamba/Desktop/BOOKS/4th Y...    NaN  \n"
          ]
        }
      ]
    }
  ]
}