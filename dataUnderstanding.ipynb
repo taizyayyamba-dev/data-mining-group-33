{
  "cells": [
    {
      "cell_type": "markdown",
      "metadata": {
        "id": "view-in-github",
        "colab_type": "text"
      },
      "source": [
        "<a href=\"https://colab.research.google.com/github/taizyayyamba-dev/data-mining-group-33/blob/main/dataUnderstanding.ipynb\" target=\"_parent\"><img src=\"https://colab.research.google.com/assets/colab-badge.svg\" alt=\"Open In Colab\"/></a>"
      ]
    },
    {
      "cell_type": "code",
      "execution_count": 13,
      "id": "6c98f85b-fd1a-4462-8ac6-1e7d6b78ce64",
      "metadata": {
        "colab": {
          "base_uri": "https://localhost:8080/",
          "height": 356
        },
        "id": "6c98f85b-fd1a-4462-8ac6-1e7d6b78ce64",
        "outputId": "bb49c234-9095-4fbd-98f1-3492cbe5444a"
      },
      "outputs": [
        {
          "output_type": "error",
          "ename": "FileNotFoundError",
          "evalue": "File dataset.json does not exist",
          "traceback": [
            "\u001b[0;31m---------------------------------------------------------------------------\u001b[0m",
            "\u001b[0;31mFileNotFoundError\u001b[0m                         Traceback (most recent call last)",
            "\u001b[0;32m/tmp/ipython-input-909055171.py\u001b[0m in \u001b[0;36m<cell line: 0>\u001b[0;34m()\u001b[0m\n\u001b[1;32m      1\u001b[0m \u001b[0;32mimport\u001b[0m \u001b[0mpandas\u001b[0m \u001b[0;32mas\u001b[0m \u001b[0mpd\u001b[0m\u001b[0;34m\u001b[0m\u001b[0;34m\u001b[0m\u001b[0m\n\u001b[1;32m      2\u001b[0m \u001b[0;32mimport\u001b[0m \u001b[0mmatplotlib\u001b[0m\u001b[0;34m.\u001b[0m\u001b[0mpyplot\u001b[0m \u001b[0;32mas\u001b[0m \u001b[0mmat\u001b[0m\u001b[0;34m\u001b[0m\u001b[0;34m\u001b[0m\u001b[0m\n\u001b[0;32m----> 3\u001b[0;31m \u001b[0mdata\u001b[0m \u001b[0;34m=\u001b[0m \u001b[0mpd\u001b[0m\u001b[0;34m.\u001b[0m\u001b[0mread_json\u001b[0m\u001b[0;34m(\u001b[0m\u001b[0;34m'dataset.json'\u001b[0m\u001b[0;34m)\u001b[0m\u001b[0;34m\u001b[0m\u001b[0;34m\u001b[0m\u001b[0m\n\u001b[0m\u001b[1;32m      4\u001b[0m \u001b[0;34m\u001b[0m\u001b[0m\n\u001b[1;32m      5\u001b[0m \u001b[0mprint\u001b[0m\u001b[0;34m(\u001b[0m\u001b[0mdata\u001b[0m\u001b[0;34m.\u001b[0m\u001b[0mhead\u001b[0m\u001b[0;34m(\u001b[0m\u001b[0;34m)\u001b[0m\u001b[0;34m)\u001b[0m\u001b[0;34m\u001b[0m\u001b[0;34m\u001b[0m\u001b[0m\n",
            "\u001b[0;32m/usr/local/lib/python3.11/dist-packages/pandas/io/json/_json.py\u001b[0m in \u001b[0;36mread_json\u001b[0;34m(path_or_buf, orient, typ, dtype, convert_axes, convert_dates, keep_default_dates, precise_float, date_unit, encoding, encoding_errors, lines, chunksize, compression, nrows, storage_options, dtype_backend, engine)\u001b[0m\n\u001b[1;32m    789\u001b[0m         \u001b[0mconvert_axes\u001b[0m \u001b[0;34m=\u001b[0m \u001b[0;32mTrue\u001b[0m\u001b[0;34m\u001b[0m\u001b[0;34m\u001b[0m\u001b[0m\n\u001b[1;32m    790\u001b[0m \u001b[0;34m\u001b[0m\u001b[0m\n\u001b[0;32m--> 791\u001b[0;31m     json_reader = JsonReader(\n\u001b[0m\u001b[1;32m    792\u001b[0m         \u001b[0mpath_or_buf\u001b[0m\u001b[0;34m,\u001b[0m\u001b[0;34m\u001b[0m\u001b[0;34m\u001b[0m\u001b[0m\n\u001b[1;32m    793\u001b[0m         \u001b[0morient\u001b[0m\u001b[0;34m=\u001b[0m\u001b[0morient\u001b[0m\u001b[0;34m,\u001b[0m\u001b[0;34m\u001b[0m\u001b[0;34m\u001b[0m\u001b[0m\n",
            "\u001b[0;32m/usr/local/lib/python3.11/dist-packages/pandas/io/json/_json.py\u001b[0m in \u001b[0;36m__init__\u001b[0;34m(self, filepath_or_buffer, orient, typ, dtype, convert_axes, convert_dates, keep_default_dates, precise_float, date_unit, encoding, lines, chunksize, compression, nrows, storage_options, encoding_errors, dtype_backend, engine)\u001b[0m\n\u001b[1;32m    902\u001b[0m             \u001b[0mself\u001b[0m\u001b[0;34m.\u001b[0m\u001b[0mdata\u001b[0m \u001b[0;34m=\u001b[0m \u001b[0mfilepath_or_buffer\u001b[0m\u001b[0;34m\u001b[0m\u001b[0;34m\u001b[0m\u001b[0m\n\u001b[1;32m    903\u001b[0m         \u001b[0;32melif\u001b[0m \u001b[0mself\u001b[0m\u001b[0;34m.\u001b[0m\u001b[0mengine\u001b[0m \u001b[0;34m==\u001b[0m \u001b[0;34m\"ujson\"\u001b[0m\u001b[0;34m:\u001b[0m\u001b[0;34m\u001b[0m\u001b[0;34m\u001b[0m\u001b[0m\n\u001b[0;32m--> 904\u001b[0;31m             \u001b[0mdata\u001b[0m \u001b[0;34m=\u001b[0m \u001b[0mself\u001b[0m\u001b[0;34m.\u001b[0m\u001b[0m_get_data_from_filepath\u001b[0m\u001b[0;34m(\u001b[0m\u001b[0mfilepath_or_buffer\u001b[0m\u001b[0;34m)\u001b[0m\u001b[0;34m\u001b[0m\u001b[0;34m\u001b[0m\u001b[0m\n\u001b[0m\u001b[1;32m    905\u001b[0m             \u001b[0mself\u001b[0m\u001b[0;34m.\u001b[0m\u001b[0mdata\u001b[0m \u001b[0;34m=\u001b[0m \u001b[0mself\u001b[0m\u001b[0;34m.\u001b[0m\u001b[0m_preprocess_data\u001b[0m\u001b[0;34m(\u001b[0m\u001b[0mdata\u001b[0m\u001b[0;34m)\u001b[0m\u001b[0;34m\u001b[0m\u001b[0;34m\u001b[0m\u001b[0m\n\u001b[1;32m    906\u001b[0m \u001b[0;34m\u001b[0m\u001b[0m\n",
            "\u001b[0;32m/usr/local/lib/python3.11/dist-packages/pandas/io/json/_json.py\u001b[0m in \u001b[0;36m_get_data_from_filepath\u001b[0;34m(self, filepath_or_buffer)\u001b[0m\n\u001b[1;32m    958\u001b[0m             \u001b[0;32mand\u001b[0m \u001b[0;32mnot\u001b[0m \u001b[0mfile_exists\u001b[0m\u001b[0;34m(\u001b[0m\u001b[0mfilepath_or_buffer\u001b[0m\u001b[0;34m)\u001b[0m\u001b[0;34m\u001b[0m\u001b[0;34m\u001b[0m\u001b[0m\n\u001b[1;32m    959\u001b[0m         ):\n\u001b[0;32m--> 960\u001b[0;31m             \u001b[0;32mraise\u001b[0m \u001b[0mFileNotFoundError\u001b[0m\u001b[0;34m(\u001b[0m\u001b[0;34mf\"File {filepath_or_buffer} does not exist\"\u001b[0m\u001b[0;34m)\u001b[0m\u001b[0;34m\u001b[0m\u001b[0;34m\u001b[0m\u001b[0m\n\u001b[0m\u001b[1;32m    961\u001b[0m         \u001b[0;32melse\u001b[0m\u001b[0;34m:\u001b[0m\u001b[0;34m\u001b[0m\u001b[0;34m\u001b[0m\u001b[0m\n\u001b[1;32m    962\u001b[0m             warnings.warn(\n",
            "\u001b[0;31mFileNotFoundError\u001b[0m: File dataset.json does not exist"
          ]
        }
      ],
      "source": [
        "import pandas as pd\n",
        "import matplotlib.pyplot as mat\n",
        "data = pd.read_json('dataset.json')\n",
        "\n",
        "print(data.head())\n",
        "print(data.info())\n",
        "print(data.describe())\n",
        "print(data.shape)\n",
        "\n",
        "#declaring the histogram using.hist for the days\n",
        "data['day'].hist(bins=31, edgecolor='black', color='lightblue')\n",
        "#Configuring the histogram with matplotlib.pyplot\n",
        "mat.title(\"Distribution of Paper Submissions Days\")\n",
        "mat.xlabel('Days')\n",
        "mat.ylabel('Number Of Papers')\n",
        "mat.show()\n",
        "\n",
        "data['month'].hist(bins=12, edgecolor='black', color='lightblue')\n",
        "mat.title(\"Distribution of Paper Submissions Months\")\n",
        "mat.xlabel('Months')\n",
        "mat.ylabel('Number Of Papers')\n",
        "mat.show()\n",
        "\n",
        "#declaring the histogram using.hist for the years\n",
        "data['year'].hist(bins=20, edgecolor='black', color='lightblue')\n",
        "#configuring the histogram with matplotlib.pyplot\n",
        "mat.title(\"Distribution of Paper Submissions Years\")\n",
        "mat.xlabel('years')\n",
        "mat.ylabel('Number of Papers')\n",
        "mat.show()"
      ]
    },
    {
      "cell_type": "code",
      "execution_count": null,
      "id": "2262f830-cfca-4f2f-9aac-bb0af894270d",
      "metadata": {
        "id": "2262f830-cfca-4f2f-9aac-bb0af894270d"
      },
      "outputs": [],
      "source": [
        "# %% [markdown]\n",
        "## 2.4 Author Analysis\n",
        "*Contributed by Taizya Yambayamba - August 2025*\n",
        "\n",
        "Let's examine the author-related information in our dataset.\n",
        "# %%\n",
        "# Check for author-related columns\n",
        "author_cols = [col for col in data.columns if 'author' in col.lower()]\n",
        "\n",
        "if not author_cols:\n",
        "    print(\"No author-specific columns found in the dataset.\")\n",
        "else:\n",
        "    print(f\"Found author-related columns: {', '.join(author_cols)}\")\n",
        "\n",
        "    # Analysis for each author-related column\n",
        "    for col in author_cols:\n",
        "        # Skip if column has too many unique values\n",
        "        if data[col].nunique() > 50:\n",
        "            print(f\"\\nColumn '{col}' has {data[col].nunique()} unique values - showing top 20 only\")\n",
        "            display(data[col].value_counts().head(20))\n",
        "            continue\n",
        "\n",
        "        # Create visualization\n",
        "        plt.figure(figsize=(12, 6))\n",
        "        ax = sns.countplot(data=data, x=col, order=data[col].value_counts().iloc[:20].index,\n",
        "                         palette='Blues_r', edgecolor='black')\n",
        "\n",
        "        plt.title(f\"Distribution of {col}\", fontsize=14, pad=20)\n",
        "        plt.xlabel(col, fontsize=12)\n",
        "        plt.ylabel(\"Number of Papers\", fontsize=12)\n",
        "        plt.xticks(rotation=45, ha='right')\n",
        "\n",
        "        # Add value labels on bars\n",
        "        for p in ax.patches:\n",
        "            ax.annotate(f'{int(p.get_height())}',\n",
        "                      (p.get_x() + p.get_width() / 2., p.get_height()),\n",
        "                      ha='center', va='center',\n",
        "                      xytext=(0, 5),\n",
        "                      textcoords='offset points')\n",
        "\n",
        "        plt.tight_layout()\n",
        "        plt.show()\n",
        "\n",
        "        # Show exact counts\n",
        "        print(f\"\\nValue counts for {col}:\")\n",
        "        display(data[col].value_counts().head(20))\n",
        "        print(\"\\n\" + \"=\"*80 + \"\\n\")\n",
        "\n",
        "# %% [markdown]\n",
        "### Summary of Author Findings\n",
        "*By Taizya Yambayamba*\n",
        "\n",
        "Based on the analysis above:\n",
        "1. **Most Productive Authors**: [List top 3 authors if available]\n",
        "2. **Collaboration Patterns**: [Note if you see multiple authors per paper]\n",
        "3. **Data Quality Notes**: [Point out any missing author data or inconsistencies]"
      ]
    },
    {
      "cell_type": "code",
      "source": [
        "from google.colab import drive\n",
        "drive.mount('/content/drive')"
      ],
      "metadata": {
        "id": "JgsloeMNsiom"
      },
      "id": "JgsloeMNsiom",
      "execution_count": null,
      "outputs": []
    },
    {
      "cell_type": "code",
      "source": [
        "import pandas as pd\n",
        "\n",
        "# Your specific file path\n",
        "file_path = '/content/drive/MyDrive/natural sciences Project/dataset.json'\n",
        "\n",
        "# Load the data\n",
        "try:\n",
        "    data = pd.read_json(file_path)\n",
        "    print(\"✅ Dataset loaded successfully!\")\n",
        "    print(f\"Found {len(data)} records with {len(data.columns)} features\")\n",
        "except Exception as e:\n",
        "    print(\"❌ Error loading file:\")\n",
        "    print(e)"
      ],
      "metadata": {
        "id": "j126nwMTtK3F"
      },
      "id": "j126nwMTtK3F",
      "execution_count": null,
      "outputs": []
    }
  ],
  "metadata": {
    "kernelspec": {
      "display_name": "Python 3 (ipykernel)",
      "language": "python",
      "name": "python3"
    },
    "language_info": {
      "codemirror_mode": {
        "name": "ipython",
        "version": 3
      },
      "file_extension": ".py",
      "mimetype": "text/x-python",
      "name": "python",
      "nbconvert_exporter": "python",
      "pygments_lexer": "ipython3",
      "version": "3.13.5"
    },
    "colab": {
      "provenance": [],
      "include_colab_link": true
    }
  },
  "nbformat": 4,
  "nbformat_minor": 5
}